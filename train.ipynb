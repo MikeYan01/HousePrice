{
 "cells": [
  {
   "cell_type": "code",
   "execution_count": null,
   "metadata": {},
   "outputs": [],
   "source": [
    "# data analysis and wrangling\n",
    "import pandas as pd\n",
    "import numpy as np\n",
    "\n",
    "# visualization\n",
    "import matplotlib.pyplot as plt\n",
    "%matplotlib inline\n",
    "\n",
    "# machine learning\n",
    "from sklearn.linear_model import LinearRegression\n",
    "from sklearn.preprocessing import PolynomialFeatures\n",
    "from sklearn.utils import shuffle\n",
    "import tensorflow as tf"
   ]
  },
  {
   "cell_type": "code",
   "execution_count": null,
   "metadata": {},
   "outputs": [],
   "source": [
    "city_name = '厦门'\n",
    "raw_data = pd.read_csv('Data/model_data/' + city_name + '.csv')\n",
    "split = int( 0.85*len(raw_data) )\n",
    "\n",
    "train = raw_data[:split]\n",
    "X_train = train.drop(\"modifiedUnitPrice\", axis=1)\n",
    "Y_train = train['modifiedUnitPrice']\n",
    "\n",
    "test = raw_data[split:]\n",
    "X_test = test.drop(\"modifiedUnitPrice\", axis=1)\n",
    "Y_actual = test['modifiedUnitPrice']"
   ]
  },
  {
   "cell_type": "code",
   "execution_count": null,
   "metadata": {},
   "outputs": [],
   "source": [
    "# linreg = LinearRegression()\n",
    "# model = linreg.fit(X_train, Y_train)\n",
    "\n",
    "poly_reg = PolynomialFeatures(degree = 2)\n",
    "X_ploy = poly_reg.fit_transform(X_train)\n",
    "linreg = LinearRegression()\n",
    "model = linreg.fit(X_ploy,Y_train)\n",
    "\n",
    "print(model.coef_)"
   ]
  },
  {
   "cell_type": "code",
   "execution_count": null,
   "metadata": {
    "scrolled": true
   },
   "outputs": [],
   "source": [
    "predict_price = []\n",
    "actual_price = []\n",
    "\n",
    "for i in range(0, 100):\n",
    "    n = np.random.randint(len(test))\n",
    "    Y_pred = linreg.predict( poly_reg.fit_transform(X_test) )[n]\n",
    "    predict_price.append(Y_pred)\n",
    "    Y_label = Y_actual.tolist()[n]\n",
    "    actual_price.append(Y_label)\n"
   ]
  },
  {
   "cell_type": "code",
   "execution_count": null,
   "metadata": {},
   "outputs": [],
   "source": [
    "plt.figure(figsize=(15, 12))\n",
    "plt.plot(range(len(predict_price)),predict_price,'b',label=\"predict\")\n",
    "plt.plot(range(len(actual_price)),actual_price,'r',label=\"label\")\n",
    "plt.legend(loc=\"upper right\")\n"
   ]
  },
  {
   "cell_type": "code",
   "execution_count": null,
   "metadata": {},
   "outputs": [],
   "source": []
  },
  {
   "cell_type": "code",
   "execution_count": null,
   "metadata": {},
   "outputs": [],
   "source": []
  },
  {
   "cell_type": "code",
   "execution_count": null,
   "metadata": {},
   "outputs": [],
   "source": [
    "# Data analysis and wrangling\n",
    "import pandas as pd\n",
    "import numpy as np\n",
    "\n",
    "# Visualization\n",
    "import matplotlib.pyplot as plt\n",
    "%matplotlib inline\n",
    "\n",
    "# Machine learning\n",
    "from sklearn.utils import shuffle\n",
    "import tensorflow as tf"
   ]
  },
  {
   "cell_type": "code",
   "execution_count": null,
   "metadata": {},
   "outputs": [],
   "source": [
    "city_name = '厦门'\n",
    "# Separate price label\n",
    "raw_data = pd.read_csv('Data/model_data/' + city_name + '.csv')\n",
    "X_train = raw_data.drop(\"modifiedUnitPrice\", axis=1)\n",
    "Y_train = raw_data['modifiedUnitPrice']\n",
    "\n",
    "# Format into numpy array\n",
    "x_data = np.array(X_train)\n",
    "y_data = np.array(Y_train)\n",
    "# Max and min value of price\n",
    "former_y_min = np.min(y_data)  \n",
    "former_y_max = np.max(y_data)\n",
    "\n",
    "# Min-Max scale, missing value is transformed into 0 or 1 accordingly\n",
    "for i in range(27):\n",
    "    # All missing in the column\n",
    "    if x_data[:,i].min() == -999 and x_data[:,i].max() == -999:\n",
    "        x_data[:,i] = 0\n",
    "        continue\n",
    "    # No missing in the column\n",
    "    elif x_data[:,i].min() != -999:\n",
    "        x_data[:,i] = (x_data[:,i] - x_data[:,i].min())/(x_data[:,i].max() - x_data[:,i].min())\n",
    "        continue\n",
    "    \n",
    "    # Find the actual min_value of the column, instead of -999\n",
    "    former_x_min = 2147483647\n",
    "    for j in range(len(x_data[:,i])):\n",
    "        if x_data[:,i][j] == -999:\n",
    "            continue\n",
    "        elif former_x_min > x_data[:,i][j]:\n",
    "            former_x_min = x_data[:,i][j]\n",
    "    \n",
    "    # Transform -999 into 1, and other value into [0,1]\n",
    "    for j in range(len(x_data[:,i])):\n",
    "        if x_data[:,i][j] == -999:\n",
    "            x_data[:,i][j] = 1\n",
    "        else:\n",
    "            x_data[:,i][j] = (x_data[:,i][j] - former_x_min)/(x_data[:,i].max() - former_x_min)\n",
    "        \n",
    "# Transform house price into [0,1]\n",
    "for i in range(len(y_data)):\n",
    "    y_data[i] = (y_data[i] - former_y_min) / (former_y_max - former_y_min)\n",
    "    \n",
    "print(x_data)\n",
    "    "
   ]
  },
  {
   "cell_type": "code",
   "execution_count": null,
   "metadata": {},
   "outputs": [],
   "source": [
    "x = tf.placeholder(tf.float32,[None,27],name = \"X\")\n",
    "y = tf.placeholder(tf.float32,[None,1],name = \"Y\") \n",
    "\n",
    "# y = Wx + b, W is the feature matrix\n",
    "with tf.name_scope('Model'):\n",
    "    \n",
    "    # w: random number, shape = (27, 1)\n",
    "    w = tf.Variable(tf.random_normal([27, 1], stddev=0.01, name='W'), tf.float32)\n",
    "    # b: 1.0\n",
    "    b = tf.Variable(1.0, name='b')\n",
    "    # matrix multiply\n",
    "    def model(x, w, b):\n",
    "        return tf.matmul(x, w) + b\n",
    "    \n",
    "    # Forward propagation\n",
    "    pred = model(x, w, b)"
   ]
  },
  {
   "cell_type": "code",
   "execution_count": null,
   "metadata": {},
   "outputs": [],
   "source": [
    "train_epochs = 50\n",
    "learning_rate = 0.01\n",
    "\n",
    "with tf.name_scope('LossFunction'):\n",
    "    loss_function = tf.reduce_mean(tf.pow(y-pred, 2))\n",
    "\n",
    "optimizer = tf.train.GradientDescentOptimizer(learning_rate).minimize(loss_function)"
   ]
  },
  {
   "cell_type": "code",
   "execution_count": null,
   "metadata": {},
   "outputs": [],
   "source": [
    "sess = tf.Session()\n",
    "init = tf.global_variables_initializer()\n",
    "sess.run(init)"
   ]
  },
  {
   "cell_type": "code",
   "execution_count": null,
   "metadata": {},
   "outputs": [],
   "source": [
    "for epoch in range(train_epochs):\n",
    "    loss_sum = 0.0\n",
    "    for xs,ys in zip(x_data,y_data):\n",
    "        \n",
    "        xs = xs.reshape(1,27)\n",
    "        ys = ys.reshape(1,1)\n",
    "        # Feed data\n",
    "        _,loss = sess.run([optimizer,loss_function],feed_dict={x:xs,y:ys})\n",
    "\n",
    "        loss_sum = loss_sum + loss\n",
    "    \n",
    "    # Reorder data to avoid fake output\n",
    "    x_data,y_data = shuffle(x_data,y_data)\n",
    "    \n",
    "    b0temp = b.eval(session=sess)           \n",
    "    w0temp = w.eval(session=sess)            \n",
    "    loss_average = loss_sum/len(y_data) \n",
    "    \n",
    "    print(\"epoch=\",epoch+1,\"loss=\",loss_average,\"b=\",b0temp,\"w=\",w0temp)\n"
   ]
  },
  {
   "cell_type": "code",
   "execution_count": null,
   "metadata": {
    "scrolled": true
   },
   "outputs": [],
   "source": [
    "# Randomly pick out 100 records to predict and compare with label data\n",
    "\n",
    "predict_price = []\n",
    "actual_price = []\n",
    "for i in range(0, 100):\n",
    "    n = np.random.randint(len(raw_data))\n",
    "    x_test = x_data[n]\n",
    "    x_test = x_test.reshape(1,27)\n",
    "    predict = sess.run(pred,feed_dict={x:x_test})\n",
    "    \n",
    "    predict_price.append(predict[0][0])\n",
    "    actual_price.append(y_data[n])\n",
    "#     print(\"预测值：\" + str(predict[0][0]))\n",
    "#     label = y_data[n]\n",
    "#     print(\"标签值：\" + str(label) + ', ' + str(np.array(Y_train)[n]))\n",
    "\n",
    "\n",
    "plt.figure(figsize=(15, 12))\n",
    "plt.plot(range(len(predict_price)),predict_price,'b',label=\"predict\")\n",
    "plt.plot(range(len(actual_price)),actual_price,'r',label=\"label\")\n",
    "plt.legend(loc=\"upper right\")"
   ]
  },
  {
   "cell_type": "code",
   "execution_count": null,
   "metadata": {},
   "outputs": [],
   "source": []
  }
 ],
 "metadata": {
  "kernelspec": {
   "display_name": "Python 3",
   "language": "python",
   "name": "python3"
  },
  "language_info": {
   "codemirror_mode": {
    "name": "ipython",
    "version": 3
   },
   "file_extension": ".py",
   "mimetype": "text/x-python",
   "name": "python",
   "nbconvert_exporter": "python",
   "pygments_lexer": "ipython3",
   "version": "3.7.3"
  }
 },
 "nbformat": 4,
 "nbformat_minor": 2
}
